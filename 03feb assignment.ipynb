{
 "cells": [
  {
   "cell_type": "code",
   "execution_count": null,
   "id": "12c4f271-aa12-4b3a-a398-010e9781fc97",
   "metadata": {},
   "outputs": [],
   "source": [
    "Q1. Which keyword is used to create a function? Create a function to return a list of odd numbers in the\n",
    "range of 1 to 25.\n",
    "Ans.def keyword is use to create a function\n"
   ]
  },
  {
   "cell_type": "code",
   "execution_count": 1,
   "id": "c9e7f617-9c54-44b2-8882-a3478aed3fb2",
   "metadata": {},
   "outputs": [
    {
     "name": "stdout",
     "output_type": "stream",
     "text": [
      "[1, 3, 5, 7, 9, 11, 13, 15, 17, 19, 21, 23, 25]\n"
     ]
    }
   ],
   "source": [
    "def odd(a,b):\n",
    "    o=[]\n",
    "    for i in range(a,b+1):\n",
    "        if i%2 != 0 :\n",
    "            o.append(i)\n",
    "    return o\n",
    "z=odd(1,25)\n",
    "print(z)"
   ]
  },
  {
   "cell_type": "code",
   "execution_count": null,
   "id": "168f72ba-aa43-4a22-b830-5dfa85c4dec1",
   "metadata": {},
   "outputs": [],
   "source": [
    "Q2. Why *args and **kwargs is used in some functions? Create a function each for *args and **kwargs\n",
    "to demonstrate their use.\n",
    "Ans- when we do not kmow tha numbers of argument then we use *args which converts argument in tuple."
   ]
  },
  {
   "cell_type": "code",
   "execution_count": 5,
   "id": "69ce1131-8148-44bb-aab6-6a86e5662a97",
   "metadata": {},
   "outputs": [
    {
     "name": "stdout",
     "output_type": "stream",
     "text": [
      "9\n",
      "27\n"
     ]
    }
   ],
   "source": [
    "def sum(*args):\n",
    "    c=0\n",
    "    for i in args :\n",
    "        c=c+i\n",
    "    print(c)\n",
    "sum(2,3,4)\n",
    "sum(7,6,5,9)"
   ]
  },
  {
   "cell_type": "code",
   "execution_count": null,
   "id": "46c870fc-28fc-4ec9-8fec-238d17d1e24f",
   "metadata": {},
   "outputs": [],
   "source": [
    "**kwargs are used to pass keyword argument. **kwargs convert argument into dictionary"
   ]
  },
  {
   "cell_type": "code",
   "execution_count": 8,
   "id": "a58ba4d4-d549-4401-b8dd-5e264c0c21fb",
   "metadata": {},
   "outputs": [
    {
     "name": "stdout",
     "output_type": "stream",
     "text": [
      "\n",
      "Data type of argument: <class 'dict'>\n",
      "Firstname is Sita\n",
      "Lastname is Sharma\n",
      "Age is 22\n",
      "Phone is 1234567890\n",
      "\n",
      "Data type of argument: <class 'dict'>\n",
      "Firstname is John\n",
      "Lastname is Wood\n",
      "Email is john\n"
     ]
    }
   ],
   "source": [
    "def intro(**data):\n",
    "    print(\"\\nData type of argument:\",type(data))\n",
    "\n",
    "    for key, value in data.items():\n",
    "        print(\"{} is {}\".format(key,value))\n",
    "\n",
    "intro(Firstname=\"Sita\", Lastname=\"Sharma\", Age=22, Phone=1234567890)\n",
    "intro(Firstname=\"John\", Lastname=\"Wood\", Email=\"john\")"
   ]
  },
  {
   "cell_type": "code",
   "execution_count": null,
   "id": "ff30b2ed-c142-4ab3-b6ff-9c083ade31dd",
   "metadata": {},
   "outputs": [],
   "source": [
    "What is an iterator in python? Name the method used to initialise the iterator object and the method\n",
    "used for iteration. Use these methods to print the first five elements of the given list [2, 4, 6, 8, 10, 12, 14,\n",
    "16, 18, 20].\n",
    "As-an iterator is an object that allows you to traverse through a collection of elements one by one.\n",
    "To initialize an iterator object in Python, you can use the iter() function. \n",
    "To iterate through the elements using the iterator object, you can use the next() function."
   ]
  },
  {
   "cell_type": "code",
   "execution_count": 9,
   "id": "ad08abf5-2ee0-4eba-baf0-b4719ac7b2b4",
   "metadata": {},
   "outputs": [
    {
     "name": "stdout",
     "output_type": "stream",
     "text": [
      "2\n",
      "4\n",
      "6\n",
      "8\n",
      "10\n"
     ]
    }
   ],
   "source": [
    "my_list = [2, 4, 6, 8, 10, 12, 14, 16, 18, 20]\n",
    "my_iterator = iter(my_list)\n",
    "for _ in range(5):\n",
    "    element = next(my_iterator)\n",
    "    print(element)"
   ]
  },
  {
   "cell_type": "code",
   "execution_count": null,
   "id": "08157d05-1526-4a19-bd4b-a4c74b2b993a",
   "metadata": {},
   "outputs": [],
   "source": [
    "What is a generator function in python? Why yield keyword is used? Give an example of a generator\n",
    "function.\n",
    "Ans-genrator is function in python tha return an iterator object.\n",
    "It uses the yield keyword instead of return to generate a series of values one at a time, allowing the function to be paused \n",
    "and resumed later on"
   ]
  },
  {
   "cell_type": "code",
   "execution_count": 10,
   "id": "57e76db7-47f7-4aa2-bd15-60675056d7f4",
   "metadata": {},
   "outputs": [
    {
     "name": "stdout",
     "output_type": "stream",
     "text": [
      "0\n",
      "1\n",
      "1\n",
      "2\n",
      "3\n",
      "5\n",
      "8\n",
      "13\n",
      "21\n",
      "34\n"
     ]
    }
   ],
   "source": [
    "def fibonacci_generator():\n",
    "    a, b = 0, 1\n",
    "    while True:\n",
    "        yield a\n",
    "        a, b = b, a + b\n",
    "\n",
    "# Create a generator object\n",
    "fib_gen = fibonacci_generator()\n",
    "\n",
    "# Print the first 10 Fibonacci numbers\n",
    "for _ in range(10):\n",
    "    fibonacci_number = next(fib_gen)\n",
    "    print(fibonacci_number)\n"
   ]
  },
  {
   "cell_type": "code",
   "execution_count": null,
   "id": "9576807b-2146-4820-8889-c94c0a03204b",
   "metadata": {},
   "outputs": [],
   "source": [
    "Create a generator function for prime numbers less than 1000. Use the next() method to print the\n",
    "first 20 prime numbers."
   ]
  },
  {
   "cell_type": "code",
   "execution_count": 11,
   "id": "70d36d29-1db2-43e6-b1ab-720ae7969534",
   "metadata": {},
   "outputs": [
    {
     "name": "stdout",
     "output_type": "stream",
     "text": [
      "2\n",
      "3\n",
      "5\n",
      "7\n",
      "11\n",
      "13\n",
      "17\n",
      "19\n",
      "23\n",
      "29\n",
      "31\n",
      "37\n",
      "41\n",
      "43\n",
      "47\n",
      "53\n",
      "59\n",
      "61\n",
      "67\n",
      "71\n"
     ]
    }
   ],
   "source": [
    "def prime_generator():\n",
    "    # Start with the first prime number\n",
    "    yield 2\n",
    "\n",
    "    # Initialize the number to be checked for primality\n",
    "    number = 3\n",
    "\n",
    "    while number < 1000:\n",
    "        is_prime = True\n",
    "\n",
    "        # Check if the number is divisible by any prime number smaller than it\n",
    "        for divisor in range(2, int(number**0.5) + 1):\n",
    "            if number % divisor == 0:\n",
    "                is_prime = False\n",
    "                break\n",
    "\n",
    "        if is_prime:\n",
    "            yield number\n",
    "\n",
    "        # Move to the next number\n",
    "        number += 2\n",
    "\n",
    "# Create a generator object\n",
    "prime_gen = prime_generator()\n",
    "\n",
    "# Print the first 20 prime numbers\n",
    "for _ in range(20):\n",
    "    prime_number = next(prime_gen)\n",
    "    print(prime_number)\n"
   ]
  },
  {
   "cell_type": "code",
   "execution_count": null,
   "id": "689f23f4-99ec-4f20-8c26-871fe4e19b4a",
   "metadata": {},
   "outputs": [],
   "source": [
    "Write a python program to print the first 10 Fibonacci numbers using a while loop."
   ]
  },
  {
   "cell_type": "code",
   "execution_count": 12,
   "id": "741b6338-8b4a-4f2e-81b8-026a2b7cb43c",
   "metadata": {},
   "outputs": [
    {
     "name": "stdout",
     "output_type": "stream",
     "text": [
      "0\n",
      "1\n",
      "1\n",
      "2\n",
      "3\n",
      "5\n",
      "8\n",
      "13\n",
      "21\n",
      "34\n"
     ]
    }
   ],
   "source": [
    "\n",
    "a, b = 0, 1\n",
    "\n",
    "count = 0\n",
    "\n",
    "while count < 10:\n",
    "    print(a)\n",
    "\n",
    "    a, b = b, a + b\n",
    "\n",
    "    count += 1\n"
   ]
  },
  {
   "cell_type": "code",
   "execution_count": null,
   "id": "f1fcd943-51fe-401f-b138-a0000063c47f",
   "metadata": {},
   "outputs": [],
   "source": [
    "Q7. Write a List Comprehension to iterate through the given string: ‘pwskills’.\n",
    "Expected output: ['p', 'w', 's', 'k', 'i', 'l', 'l', 's']"
   ]
  },
  {
   "cell_type": "code",
   "execution_count": 14,
   "id": "a5a4f2c3-417f-48ee-83b2-ae0c8991000f",
   "metadata": {},
   "outputs": [
    {
     "name": "stdout",
     "output_type": "stream",
     "text": [
      "['p', 'w', 's', 'k', 'i', 'l', 'l', 's']\n"
     ]
    }
   ],
   "source": [
    "string = 'pwskills'\n",
    "result = [char for char in string if char in 'pwskills']\n",
    "print(result)\n"
   ]
  },
  {
   "cell_type": "code",
   "execution_count": null,
   "id": "ae23ace5-db7c-4799-9215-1264042732d5",
   "metadata": {},
   "outputs": [],
   "source": [
    "Q8. Write a python program to check whether a given number is Palindrome or not using a while loop."
   ]
  },
  {
   "cell_type": "code",
   "execution_count": 15,
   "id": "b259225a-ad56-4e99-a1b4-8e64bff452c9",
   "metadata": {},
   "outputs": [
    {
     "name": "stdin",
     "output_type": "stream",
     "text": [
      "Enter a number:  7777\n"
     ]
    },
    {
     "name": "stdout",
     "output_type": "stream",
     "text": [
      "The number is a palindrome.\n"
     ]
    }
   ],
   "source": [
    "num = int(input(\"Enter a number: \"))\n",
    "original_num = num\n",
    "reverse_num = 0\n",
    "\n",
    "while num > 0:\n",
    "    digit = num % 10\n",
    "    reverse_num = reverse_num * 10 + digit\n",
    "    num = num // 10\n",
    "\n",
    "if original_num == reverse_num:\n",
    "    print(\"The number is a palindrome.\")\n",
    "else:\n",
    "    print(\"The number is not a palindrome.\")\n"
   ]
  },
  {
   "cell_type": "code",
   "execution_count": null,
   "id": "efb8910a-7a01-485d-86b9-3defbcd8dd29",
   "metadata": {},
   "outputs": [],
   "source": []
  }
 ],
 "metadata": {
  "kernelspec": {
   "display_name": "Python 3 (ipykernel)",
   "language": "python",
   "name": "python3"
  },
  "language_info": {
   "codemirror_mode": {
    "name": "ipython",
    "version": 3
   },
   "file_extension": ".py",
   "mimetype": "text/x-python",
   "name": "python",
   "nbconvert_exporter": "python",
   "pygments_lexer": "ipython3",
   "version": "3.10.8"
  }
 },
 "nbformat": 4,
 "nbformat_minor": 5
}
